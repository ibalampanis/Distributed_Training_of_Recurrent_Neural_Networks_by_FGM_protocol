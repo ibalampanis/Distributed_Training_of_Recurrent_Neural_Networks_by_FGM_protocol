{
  "nbformat": 4,
  "nbformat_minor": 2,
  "metadata": {
    "language_info": {
      "name": "python",
      "codemirror_mode": {
        "name": "ipython",
        "version": 3
      }
    },
    "orig_nbformat": 2,
    "file_extension": ".py",
    "mimetype": "text/x-python",
    "name": "python",
    "npconvert_exporter": "python",
    "pygments_lexer": "ipython3",
    "version": 3
  },
  "cells": [
    {
      "cell_type": "markdown",
      "metadata": {},
      "source": [
        "Import modules that we need"
      ]
    },
    {
      "cell_type": "code",
      "execution_count": null,
      "metadata": {},
      "outputs": [],
      "source": [
        "import numpy as np\n",
        "import pandas as pd\n",
        "from sklearn.preprocessing import LabelEncoder"
      ]
    },
    {
      "cell_type": "markdown",
      "metadata": {},
      "source": [
        "Read file from datasets/ folder"
      ]
    },
    {
      "cell_type": "code",
      "execution_count": null,
      "metadata": {},
      "outputs": [],
      "source": [
        "df = pd.read_csv('../datasets/SFC_Trainset.csv')"
      ]
    },
    {
      "cell_type": "markdown",
      "metadata": {},
      "source": [
        "Edit the file contents with pandas dataframe."
      ]
    },
    {
      "cell_type": "code",
      "execution_count": null,
      "metadata": {},
      "outputs": [],
      "source": [
        "df = df.drop('Resolution', axis=1)\n",
        "\n",
        "assert df.Dates.isnull().any() == False\n",
        "assert df.Dates.str.match('\\d\\d\\d\\d-\\d\\d-\\d\\d \\d\\d:\\d\\d:\\d\\d').all() == True\n",
        "\n",
        "df['Date'] = pd.to_datetime(df.Dates)\n",
        "df = df.drop('Dates', axis=1)\n",
        "\n",
        "df['IsDay'] = 0\n",
        "df.loc[(df.Date.dt.hour > 6) & (df.Date.dt.hour < 20), 'IsDay'] = 1\n",
        "\n",
        "days_to_int_dic = {\n",
        "    'Monday': 1,\n",
        "    'Tuesday': 2,\n",
        "    'Wednesday': 3,\n",
        "    'Thursday': 4,\n",
        "    'Friday': 5,\n",
        "    'Saturday': 6,\n",
        "    'Sunday': 7,\n",
        "}\n",
        "df['DayOfWeek'] = df['DayOfWeek'].map(days_to_int_dic)\n",
        "df.DayOfWeek.unique()\n",
        "\n",
        "df['Hour'] = df.Date.dt.hour\n",
        "df['Month'] = df.Date.dt.month\n",
        "df['Year'] = df.Date.dt.year\n",
        "df['Year'] = df['Year'] - 2000  # The Algorithm doesn't know the difference. It's just easier to work like that\n",
        "\n",
        "df['HourCos'] = np.cos((df['Hour'] * 2 * np.pi) / 24)\n",
        "df['DayOfWeekCos'] = np.cos((df['DayOfWeek'] * 2 * np.pi) / 7)\n",
        "df['MonthCos'] = np.cos((df['Month'] * 2 * np.pi) / 12)\n",
        "\n",
        "df = pd.get_dummies(df, columns=['PdDistrict'])\n",
        "\n",
        "cat_le = LabelEncoder()\n",
        "df['CategoryInt'] = pd.Series(cat_le.fit_transform(df.Category))\n",
        "\n",
        "df['InIntersection'] = 1\n",
        "df.loc[df.Address.str.contains('Block'), 'InIntersection'] = 0\n",
        "\n",
        "cols = ['X', 'Y', 'IsDay', 'DayOfWeek', 'Month', 'Hour', 'Year', 'InIntersection',\n",
        "        'PdDistrict_BAYVIEW', 'PdDistrict_CENTRAL', 'PdDistrict_INGLESIDE',\n",
        "        'PdDistrict_MISSION', 'PdDistrict_NORTHERN', 'PdDistrict_PARK',\n",
        "        'PdDistrict_RICHMOND', 'PdDistrict_SOUTHERN', 'PdDistrict_TARAVAL',\n",
        "        'PdDistrict_TENDERLOIN', 'CategoryInt']\n",
        "\n",
        "df_edited = df[cols]"
      ]
    },
    {
      "cell_type": "markdown",
      "metadata": {},
      "source": [
        "Save the pandas dataframe as .csv file."
      ]
    },
    {
      "cell_type": "code",
      "execution_count": null,
      "metadata": {},
      "outputs": [],
      "source": [
        "df_edited.to_csv('../datasets/San_Francisco_Crime.csv', index=False, header=None)\n",
        "\n",
        "print(\"OK\")"
      ]
    }
  ]
}