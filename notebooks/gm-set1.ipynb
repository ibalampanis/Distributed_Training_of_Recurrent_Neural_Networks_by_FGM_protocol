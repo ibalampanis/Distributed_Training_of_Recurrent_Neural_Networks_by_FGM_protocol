{
 "cells": [
  {
   "cell_type": "markdown",
   "metadata": {},
   "source": [
    "\n",
    "##  <div align=\"center\"> **GM  Experiments Set 1** </div> ## \n",
    "\n",
    "##### <div align=\"center\"> **Note:** Each case has run 5 times and the visualized values are the average of the results </div> #####"
   ]
  },
   {
     "cell_type": "code",
     "execution_count": null,
     "metadata": {},
     "outputs": [],
     "source": [
       "import pandas as pd\n",
       "from matplotlib import pyplot as plt"
     ]
   },
   {
     "cell_type": "code",
     "execution_count": null,
     "metadata": {},
     "outputs": [],
     "source": [
       "%matplotlib notebook\n",
       "\n",
       "headers = ['exp_id','var_col','sites', 'lstm_cells', 'threshold', \n",
       "           'mini_batch_size', 'opt_max_iters', 'accuracy', 'rounds','bytes']\n",
       "\n",
       "df = pd.read_csv('../simulation/gm_set1.csv', usecols=headers)\n",
       "\n",
       "# plt.rcParams['figure.figsize'] = [15, 7]\n",
       "# plt.rcParams['figure.dpi'] = 200"
     ]
   },
   {
     "cell_type": "markdown",
     "metadata": {},
     "source": [
       "#### Model accuracy and rounds for various numbers of **sites** ####\n",
       "Hyperparameters:\n",
       "- ***Sites: { 4, 8, 16, 32, 64, 128 }***\n",
       "- LSTM Cells: 10\n",
       "- Threshold: 9e-10\n",
       "- Mini-batch size: 32\n",
       "- Opt. max iterations: 500"
     ]
   },
   {
     "cell_type": "code",
     "execution_count": null,
     "metadata": {},
     "outputs": [],
     "source": [
       "subdf= df[(df['var_col'] == 0) | (df['var_col'] == 2)]\n",
       "_sorted = subdf.sort_values('sites')\n",
       "\n",
       "x = _sorted['sites']\n",
       "\n",
       "y = _sorted['accuracy']\n",
       "plt.figure(1)\n",
       "plt.plot(x,y)\n",
       "plt.legend(['Accuracy'], loc='upper left')\n",
    "plt.grid(True)\n",
    "plt.show()\n",
    "\n",
    "y = _sorted['rounds']\n",
    "plt.figure(2)\n",
    "plt.plot(x,y)\n",
    "plt.legend(['Rounds'], loc='upper left')\n",
    "plt.grid(True)\n",
    "plt.show()"
   ]
  },
  {
   "cell_type": "markdown",
   "metadata": {},
    "source": [
      "#### Model accuracy and rounds for various numbers of **LSTM cells** ####\n",
      "Hyperparameters:\n",
      "- Sites: 8\n",
      "- ***LSTM cells: {5, 10, 15, 20 }***\n",
      "- Threshold: 9e-10\n",
      "- Mini-batch size: 32\n",
      "- Opt. max iterations: 500"
    ]
  },
   {
     "cell_type": "code",
     "execution_count": null,
     "metadata": {},
     "outputs": [],
     "source": [
       "subdf= df[(df['var_col'] == 0) | (df['var_col'] == 3)]\n",
       "_sorted = subdf.sort_values('lstm_cells')\n",
       "\n",
       "x = _sorted['lstm_cells']\n",
       "\n",
       "y = _sorted['accuracy']\n",
       "plt.figure(3)\n",
       "plt.plot(x,y)\n",
       "plt.legend(['Accuracy'], loc='upper left')\n",
    "plt.grid(True)\n",
    "plt.show()\n",
    "\n",
    "y = _sorted['rounds']\n",
    "plt.figure(4)\n",
    "plt.plot(x,y)\n",
    "plt.legend(['Rounds'], loc='upper left')\n",
    "plt.grid(True)\n",
    "plt.show()"
   ]
  },
  {
   "cell_type": "markdown",
   "metadata": {},
    "source": [
      "#### Model accuracy and rounds for various numbers of **threshold** ####\n",
      "Hyperparameters:\n",
      "- Sites: 8\n",
      "- LSTM cells: 10\n",
      "- ***Threshold: { 8e-5, 8e-10, 9e-8, 9e-10, 10e-10 }***\n",
      "- Mini-batch size: 32\n",
      "- Opt. max iterations: 500"
    ]
  },
   {
     "cell_type": "code",
     "execution_count": null,
     "metadata": {},
     "outputs": [],
     "source": [
       "subdf= df[(df['var_col'] == 0) | (df['var_col'] == 4)]\n",
       "_sorted = subdf.sort_values('threshold')\n",
       "\n",
       "x = _sorted['threshold']\n",
       "\n",
       "y = _sorted['accuracy']\n",
       "plt.figure(5)\n",
       "plt.plot(x,y)\n",
       "plt.legend(['Accuracy'], loc='upper left')\n",
    "plt.grid(True)\n",
    "plt.show()\n",
    "\n",
    "y = _sorted['rounds']\n",
    "plt.figure(6)\n",
    "plt.plot(x,y)\n",
    "plt.legend(['Rounds'], loc='upper left')\n",
    "plt.grid(True)\n",
    "plt.show()"
   ]
  },
  {
   "cell_type": "markdown",
   "metadata": {},
    "source": [
      "#### Model accuracy and rounds for various sizes of **mini-batch** ####\n",
      "Hyperparameters:\n",
      "- Sites: 8\n",
      "- LSTM cells: 10\n",
      "- Threshold: 9e-10\n",
      "- ***Mini-batch size: { 1, 4, 16, 32, 64, 128 }***\n",
      "- Opt. max iterations: 500"
    ]
  },
   {
     "cell_type": "code",
     "execution_count": null,
     "metadata": {},
     "outputs": [],
     "source": [
       "subdf= df[(df['var_col'] == 0) | (df['var_col'] == 5)]\n",
       "_sorted = subdf.sort_values('mini_batch_size')\n",
       "\n",
       "x = _sorted['mini_batch_size']\n",
       "\n",
       "y = _sorted['accuracy']\n",
       "plt.figure(7)\n",
       "plt.plot(x,y)\n",
       "plt.legend(['Accuracy'], loc='upper left')\n",
    "plt.grid(True)\n",
    "plt.show()\n",
    "\n",
    "y = _sorted['rounds']\n",
    "plt.figure(8)\n",
    "plt.plot(x,y)\n",
    "plt.legend(['Rounds'], loc='upper left')\n",
    "plt.grid(True)\n",
    "plt.show()"
   ]
  },
  {
   "cell_type": "markdown",
   "metadata": {},
    "source": [
      "#### Model accuracy and rounds for various numbers of **max  iterations of optimizer** ####\n",
      "Hyperparameters:\n",
      "- Sites: 8\n",
      "- LSTM cells: 10\n",
      "- Threshold: 9e-10\n",
      "- Mini-batch size: 32\n",
      "- ***Optimizer max iterations: { 500, 1000 }***"
    ]
  },
   {
     "cell_type": "code",
     "execution_count": null,
     "metadata": {},
     "outputs": [],
     "source": [
       "subdf= df[(df['var_col'] == 0) | (df['var_col'] == 6)]\n",
       "_sorted = subdf.sort_values('opt_max_iters')\n",
       "\n",
       "x = _sorted['opt_max_iters']\n",
       "\n",
       "y = _sorted['accuracy']\n",
       "plt.figure(9)\n",
       "plt.plot(x,y)\n",
       "plt.legend(['Accuracy'], loc='upper left')\n",
    "plt.grid(True)\n",
    "plt.show()\n",
    "\n",
    "y = _sorted['rounds']\n",
    "plt.figure(10)\n",
    "plt.plot(x,y)\n",
    "plt.legend(['Rounds'], loc='upper left')\n",
    "plt.grid(True)\n",
    "plt.show()"
   ]
  }
 ],
 "metadata": {
  "kernelspec": {
    "display_name": "PyCharm (eeg-eye-state-lstm)",
    "language": "python",
    "name": "pycharm-9cd10a93"
  },
  "language_info": {
   "codemirror_mode": {
    "name": "ipython",
    "version": 3
   },
   "file_extension": ".py",
   "mimetype": "text/x-python",
   "name": "python",
   "nbconvert_exporter": "python",
   "pygments_lexer": "ipython3",
    "version": "3.6.9-final"
  }
 },
 "nbformat": 4,
 "nbformat_minor": 4
}